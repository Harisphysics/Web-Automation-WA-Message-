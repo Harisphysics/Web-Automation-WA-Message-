{
 "cells": [
  {
   "cell_type": "code",
   "execution_count": 1,
   "metadata": {},
   "outputs": [],
   "source": [
    "from selenium import webdriver\n",
    "from selenium.webdriver.common.keys import Keys\n",
    "from selenium.webdriver.common.by import By\n",
    "from selenium.webdriver.support.ui import WebDriverWait\n",
    "from selenium.webdriver.support import expected_conditions as EC\n",
    "import pandas as pd\n",
    "import time"
   ]
  },
  {
   "cell_type": "code",
   "execution_count": 2,
   "metadata": {},
   "outputs": [],
   "source": [
    "# Buka Google Chrome dan alamat web yang dituju\n",
    "\n",
    "Chromedriver = 'D:/PROGRAMMING/chromedriver.exe'   # direktrori chrome driver\n",
    "browser = webdriver.Chrome(executable_path=Chromedriver)\n",
    "browser.get('https://web.whatsapp.com/')   # membuka website yang ingin dituju\n",
    "browser.implicitly_wait(50)"
   ]
  },
  {
   "cell_type": "code",
   "execution_count": 4,
   "metadata": {},
   "outputs": [],
   "source": [
    "data = pd.read_excel('E:/Nuris/Kontak Jamaah/Kemuslimahan FPM/Baru 1441 H.xlsx')   # Data nomor WA dan nama nya\n",
    "data['CP'] = data['CP'].astype(str)\n",
    "elem2=0"
   ]
  },
  {
   "cell_type": "code",
   "execution_count": 5,
   "metadata": {},
   "outputs": [],
   "source": [
    "# Fungsi untuk mengirim pesan gambar\n",
    "def PesanGambar():\n",
    "    files = [\"E:/Gambar1.jpg\", \"E:/Gambar2.jpg\"]   # direktori gambar\n",
    "    for i in range(len(files)):\n",
    "        browser.find_element_by_css_selector(\"span[data-icon='clip']\").click()\n",
    "        web = browser.find_element_by_css_selector(\"input[accept='image/*,video/mp4,video/3gpp,video/quicktime']\")\n",
    "        #web = browser.find_element_by_css_selector(\"input[accept='*']\")\n",
    "        web.send_keys(\"\")\n",
    "        web.send_keys(files[i])\n",
    "        time.sleep(1)\n",
    "        browser.find_element_by_css_selector(\"span[data-icon='send-light']\").click()\n",
    "        time.sleep(2)\n",
    "\n",
    "# Fungsi mengirim pesan text\n",
    "def Pesan():\n",
    "    Text = browser.find_element_by_class_name('_3FeAD')\n",
    "    Text.send_keys('Assalamualaikum *',data.Nama[i],'* \\n')\n",
    "    Text.send_keys('Hallo, apa kabar? \\n')  # Pesan text\n",
    "    Text.send_keys(Keys.CONTROL+\"v\")  # Paste pesan yang ingin dikirim tanpa harus mengetik\n",
    "    Text.send_keys(' \\n')\n",
    "    time.sleep(1)"
   ]
  },
  {
   "cell_type": "code",
   "execution_count": 6,
   "metadata": {},
   "outputs": [],
   "source": [
    "for i in range(len(data)):\n",
    "    elem = browser.find_element_by_class_name('_2zCfw')\n",
    "    elem.send_keys(data.CP[i])\n",
    "    elem.send_keys(Keys.ENTER)\n",
    "    elem.clear()\n",
    "    elem1 = browser.find_element_by_class_name(\"_19vo_\")\n",
    "    check=elem1.text\n",
    "    Name = check[-3:].isdigit()\n",
    "    Number = check[-3:]      \n",
    "    \n",
    "    if (Name==False or Number==data.CP[i][-3:]) and check!=elem2:\n",
    "        Pesan()\n",
    "        elem2=check\n",
    "        \n",
    "    else :\n",
    "        browser.get(data.Hyperlink[i])\n",
    "        try :\n",
    "            time.sleep(2)\n",
    "            browser.switch_to.alert.accept()\n",
    "            elem3 = browser.find_element_by_link_text('MESSAGE')\n",
    "            elem3.click()\n",
    "            time.sleep(1)\n",
    "            browser.find_element_by_class_name('action__link').click()\n",
    "            \n",
    "        except :\n",
    "            elem3 = browser.find_element_by_link_text('MESSAGE')\n",
    "            elem3.click()\n",
    "            time.sleep(1)\n",
    "            browser.find_element_by_class_name('action__link').click()\n",
    "        \n",
    "        try:\n",
    "            WebDriverWait(browser, 50).until(EC.presence_of_element_located((By.CLASS_NAME, '_3u328')))\n",
    "            Pesan()\n",
    "\n",
    "            \n",
    "        except :\n",
    "            print(data.Nama[i])\n",
    "            browser.find_element_by_class_name('_2eK7W').click()\n",
    "            elem = browser.find_element_by_class_name('_2zCfw')\n",
    "            elem.send_keys('628')\n",
    "            elem.send_keys(Keys.ENTER)\n",
    "            elem.clear()\n",
    "            continue"
   ]
  }
 ],
 "metadata": {
  "kernelspec": {
   "display_name": "Python 3",
   "language": "python",
   "name": "python3"
  },
  "language_info": {
   "codemirror_mode": {
    "name": "ipython",
    "version": 3
   },
   "file_extension": ".py",
   "mimetype": "text/x-python",
   "name": "python",
   "nbconvert_exporter": "python",
   "pygments_lexer": "ipython3",
   "version": "3.7.3"
  }
 },
 "nbformat": 4,
 "nbformat_minor": 2
}
